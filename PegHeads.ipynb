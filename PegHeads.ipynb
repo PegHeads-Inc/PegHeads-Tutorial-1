{
 "cells": [
  {
   "cell_type": "code",
   "execution_count": 1,
   "id": "b0bf093a",
   "metadata": {},
   "outputs": [
    {
     "name": "stdout",
     "output_type": "stream",
     "text": [
      "Requirement already satisfied: moviepy in c:\\users\\devin\\anaconda3\\lib\\site-packages (1.0.3)\n",
      "Requirement already satisfied: imageio<3.0,>=2.5 in c:\\users\\devin\\anaconda3\\lib\\site-packages (from moviepy) (2.9.0)\n",
      "Requirement already satisfied: decorator<5.0,>=4.0.2 in c:\\users\\devin\\anaconda3\\lib\\site-packages (from moviepy) (4.4.2)\n",
      "Requirement already satisfied: numpy>=1.17.3 in c:\\users\\devin\\anaconda3\\lib\\site-packages (from moviepy) (1.19.5)\n",
      "Requirement already satisfied: requests<3.0,>=2.8.1 in c:\\users\\devin\\anaconda3\\lib\\site-packages (from moviepy) (2.25.1)\n",
      "Requirement already satisfied: imageio-ffmpeg>=0.2.0 in c:\\users\\devin\\anaconda3\\lib\\site-packages (from moviepy) (0.4.4)\n",
      "Requirement already satisfied: tqdm<5.0,>=4.11.2 in c:\\users\\devin\\anaconda3\\lib\\site-packages (from moviepy) (4.59.0)\n",
      "Requirement already satisfied: proglog<=1.0.0 in c:\\users\\devin\\anaconda3\\lib\\site-packages (from moviepy) (0.1.9)\n",
      "Requirement already satisfied: pillow in c:\\users\\devin\\anaconda3\\lib\\site-packages (from imageio<3.0,>=2.5->moviepy) (8.2.0)\n",
      "Requirement already satisfied: certifi>=2017.4.17 in c:\\users\\devin\\anaconda3\\lib\\site-packages (from requests<3.0,>=2.8.1->moviepy) (2020.12.5)\n",
      "Requirement already satisfied: chardet<5,>=3.0.2 in c:\\users\\devin\\anaconda3\\lib\\site-packages (from requests<3.0,>=2.8.1->moviepy) (4.0.0)\n",
      "Requirement already satisfied: urllib3<1.27,>=1.21.1 in c:\\users\\devin\\anaconda3\\lib\\site-packages (from requests<3.0,>=2.8.1->moviepy) (1.26.4)\n",
      "Requirement already satisfied: idna<3,>=2.5 in c:\\users\\devin\\anaconda3\\lib\\site-packages (from requests<3.0,>=2.8.1->moviepy) (2.10)\n"
     ]
    },
    {
     "name": "stderr",
     "output_type": "stream",
     "text": [
      "\r",
      "chunk:   0%|                                                                        | 0/1447 [00:00<?, ?it/s, now=None]"
     ]
    },
    {
     "name": "stdout",
     "output_type": "stream",
     "text": [
      "Moviepy - Building video pegheads_render.mp4.\n",
      "MoviePy - Writing audio in pegheads_renderTEMP_MPY_wvf_snd.mp3\n"
     ]
    },
    {
     "name": "stderr",
     "output_type": "stream",
     "text": [
      "t:   0%|                                                                            | 0/1575 [00:00<?, ?it/s, now=None]"
     ]
    },
    {
     "name": "stdout",
     "output_type": "stream",
     "text": [
      "MoviePy - Done.\n",
      "Moviepy - Writing video pegheads_render.mp4\n",
      "\n"
     ]
    },
    {
     "name": "stderr",
     "output_type": "stream",
     "text": [
      "                                                                                                                       \r"
     ]
    },
    {
     "name": "stdout",
     "output_type": "stream",
     "text": [
      "Moviepy - Done !\n",
      "Moviepy - video ready pegheads_render.mp4\n"
     ]
    }
   ],
   "source": [
    "!pip install moviepy --upgrade\n",
    "from moviepy.editor import *\n",
    "\n",
    "v1 = VideoFileClip('Frontflip.mp4')\n",
    "v2 = VideoFileClip('Backjump.mp4')\n",
    "v3 = VideoFileClip('Frontdoubleflip.mp4')\n",
    "v4 = VideoFileClip('Highbounce.mp4')\n",
    "v5 = VideoFileClip('Jumpingjack.mp4')\n",
    "v6 = VideoFileClip('Eyeroll.mp4')\n",
    "v7 = VideoFileClip('Colorchanging.mp4')\n",
    "\n",
    "final = concatenate_videoclips([v1, v2, v3, v4, v5, v6, v7])\n",
    "final.write_videofile('pegheads_render.mp4')"
   ]
  },
  {
   "cell_type": "code",
   "execution_count": null,
   "id": "1fa23846",
   "metadata": {},
   "outputs": [],
   "source": []
  }
 ],
 "metadata": {
  "kernelspec": {
   "display_name": "Python 3",
   "language": "python",
   "name": "python3"
  },
  "language_info": {
   "codemirror_mode": {
    "name": "ipython",
    "version": 3
   },
   "file_extension": ".py",
   "mimetype": "text/x-python",
   "name": "python",
   "nbconvert_exporter": "python",
   "pygments_lexer": "ipython3",
   "version": "3.8.8"
  }
 },
 "nbformat": 4,
 "nbformat_minor": 5
}
